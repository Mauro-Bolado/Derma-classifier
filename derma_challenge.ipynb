{
 "cells": [
  {
   "cell_type": "markdown",
   "metadata": {},
   "source": [
    "# Derma-Challenge"
   ]
  },
  {
   "cell_type": "markdown",
   "metadata": {},
   "source": [
    "Para  comenzar, importaremos las bibliotecas necesarias"
   ]
  },
  {
   "cell_type": "code",
   "execution_count": 1,
   "metadata": {},
   "outputs": [],
   "source": [
    "import os\n",
    "from PIL import Image\n",
    "import numpy as np\n",
    "import matplotlib.pyplot as plt\n",
    "import torchvision\n",
    "import torchvision.transforms as transforms\n",
    "import torch \n",
    "from torch.utils.data import Dataset, DataLoader\n",
    "from torchvision import transforms"
   ]
  },
  {
   "cell_type": "markdown",
   "metadata": {},
   "source": [
    "## Data Exploration\n",
    "\n",
    "- Cargar y visualizar algunas imágenes de muestra\n",
    "- Analizar la distribución de clases\n",
    "- Calcular estadísticas básicas de las imágenes"
   ]
  },
  {
   "cell_type": "code",
   "execution_count": 2,
   "metadata": {},
   "outputs": [],
   "source": [
    "data_path = \"images/images\"\n",
    "\n",
    "out_data_path = \"images/data\""
   ]
  },
  {
   "cell_type": "markdown",
   "metadata": {},
   "source": []
  },
  {
   "cell_type": "code",
   "execution_count": null,
   "metadata": {},
   "outputs": [],
   "source": [
    "if os.path.exists(out_data_path):\n",
    "    os.mkdir(out_data_path)\n",
    "    os.mkdir(os.path.join(out_data_path, \"train\"))\n",
    "    os.mkdir(os.path.join(out_data_path, \"test\"))\n",
    "    os.mkdir(os.path.join(out_data_path, \"val\"))"
   ]
  },
  {
   "cell_type": "markdown",
   "metadata": {},
   "source": [
    "## Dataset splitting"
   ]
  },
  {
   "cell_type": "code",
   "execution_count": null,
   "metadata": {},
   "outputs": [],
   "source": [
    "import os\n",
    "import random\n",
    "import shutil\n",
    "\n",
    "# Define paths\n",
    "input_folder = 'images/images'\n",
    "output_folder = 'data/'\n",
    "\n",
    "# Create the output folder structure\n",
    "os.makedirs(output_folder, exist_ok=True)\n",
    "os.makedirs(os.path.join(output_folder, 'train'), exist_ok=True)\n",
    "os.makedirs(os.path.join(output_folder, 'val'), exist_ok=True)\n",
    "os.makedirs(os.path.join(output_folder, 'test'), exist_ok=True)\n",
    "\n",
    "# Function to create class folders\n",
    "def create_class_folders(folder_path):\n",
    "    for class_name in os.listdir(input_folder):\n",
    "        os.makedirs(os.path.join(folder_path, class_name), exist_ok=True)\n",
    "\n",
    "# Count images per class\n",
    "class_images = {}\n",
    "for class_name in os.listdir(input_folder):\n",
    "    class_images[class_name] = len([f for f in os.listdir(os.path.join(input_folder, class_name)) if f.endswith('.png')])\n",
    "    print(f\"Class {class_name}: {class_images[class_name]} images\")\n",
    "\n",
    "# Calculate number of images for each split per class\n",
    "class_splits = {}\n",
    "for class_name, count in class_images.items():\n",
    "    if count < 3:\n",
    "        print(f\"Not enough images for class {class_name}. Skipping this class.\")\n",
    "        continue\n",
    "    \n",
    "    class_splits[class_name] = {\n",
    "        'train': min(int(count * 0.8), count),\n",
    "        'val': min(int(count * 0.1), count),\n",
    "    }\n",
    "    class_splits[class_name]['test'] = max(0, count - class_splits[class_name]['train'] - class_splits[class_name]['val'])\n",
    "\n",
    "# Split images into train, val, and test sets for each class\n",
    "class_file_lists = {}\n",
    "for class_name in class_images.keys():\n",
    "    if class_name not in class_splits:\n",
    "        continue\n",
    "    \n",
    "    class_files = []\n",
    "    for filename in os.listdir(os.path.join(input_folder, class_name)):\n",
    "        if filename.endswith('.png'):\n",
    "            class_files.append(filename)\n",
    "    \n",
    "    random.shuffle(class_files)\n",
    "    \n",
    "    train_files = class_files[:class_splits[class_name]['train']]\n",
    "    val_files = class_files[class_splits[class_name]['train']:class_splits[class_name]['train']+class_splits[class_name]['val']]\n",
    "    test_files = class_files[class_splits[class_name]['train']+class_splits[class_name]['val']:]\n",
    "    \n",
    "    class_file_lists[class_name] = {'train': train_files, 'val': val_files, 'test': test_files}\n",
    "\n",
    "# Copy images to the appropriate folders\n",
    "for class_name, file_list in class_file_lists.items():\n",
    "    if not file_list['train'] or not file_list['val'] or not file_list['test']:\n",
    "        print(f\"Not enough images for class {class_name}. Skipping this class.\")\n",
    "        continue\n",
    "    \n",
    "    for split, files in [('train', file_list['train']), ('val', file_list['val']), ('test', file_list['test'])]:\n",
    "        for filename in files:\n",
    "            src_path = os.path.join(input_folder, class_name, filename)\n",
    "            dst_folder = os.path.join(output_folder, split)\n",
    "            dst_path = os.path.join(output_folder, split, class_name, filename)\n",
    "            create_class_folders(dst_folder)\n",
    "            shutil.copy2(src_path, dst_path)\n",
    "            print(f\"Copied {src_path} to {dst_path}\")\n",
    "\n",
    "print(\"\\nData copying completed.\")"
   ]
  },
  {
   "cell_type": "code",
   "execution_count": null,
   "metadata": {},
   "outputs": [],
   "source": [
    "import os\n",
    "\n",
    "# Checking if dataset is correctly splitted\n",
    "\n",
    "train_folder = 'data/train/'\n",
    "eval_folder = 'data/test/'\n",
    "validation_folder = 'data/val/'\n",
    "input_folder = 'images/images'\n",
    "for class_name in os.listdir(input_folder):\n",
    "    train_images = len([f for f in os.listdir(os.path.join(train_folder, class_name)) if f.endswith('.png')])\n",
    "    eval_images = len([f for f in os.listdir(os.path.join(eval_folder, class_name)) if f.endswith('.png')])\n",
    "    validation_images = len([f for f in os.listdir(os.path.join(validation_folder, class_name)) if f.endswith('.png')])\n",
    "    total_images = len([f for f in os.listdir(os.path.join(input_folder, class_name))if f.endswith('.png')])\n",
    "    print(f'class: {class_name}; train {train_images}; eval {eval_images}; val {validation_images}; total {total_images}')\n"
   ]
  },
  {
   "cell_type": "markdown",
   "metadata": {},
   "source": [
    "## Data Preprocessing\n",
    "\n",
    "- Aplicar transformaciones a las imágenes (redimensionamiento, normalización, etc.)\n",
    "- Dividir el conjunto de datos en entrenamiento, validación y prueba\n",
    "- Crear los DataLoaders de PyTorch"
   ]
  },
  {
   "cell_type": "markdown",
   "metadata": {},
   "source": [
    "### Transformaciones"
   ]
  },
  {
   "cell_type": "code",
   "execution_count": null,
   "metadata": {},
   "outputs": [],
   "source": [
    "# Definir las transformaciones\n",
    "transform = transforms.Compose([\n",
    "    transforms.Resize(256),  # Redimensionar a 256x256\n",
    "    transforms.CenterCrop(224),  # Recortar el centro de la imagen a 224x224\n",
    "    transforms.ToTensor(),  # Convertir a tensor\n",
    "    transforms.Normalize(mean=[0.485, 0.456, 0.406], std=[0.229, 0.224, 0.225])  # Normalizar\n",
    "])"
   ]
  },
  {
   "cell_type": "code",
   "execution_count": null,
   "metadata": {},
   "outputs": [],
   "source": [
    "# Cargar una imagen de ejemplo\n",
    "img = Image.open('imagen_ejemplo.jpg')\n",
    "img"
   ]
  },
  {
   "cell_type": "code",
   "execution_count": null,
   "metadata": {},
   "outputs": [],
   "source": [
    "# Aplicar las transformaciones\n",
    "img_transformada = transform(img)\n",
    "img_transformada"
   ]
  },
  {
   "cell_type": "code",
   "execution_count": null,
   "metadata": {},
   "outputs": [],
   "source": [
    "# Mostrar la imagen transformada\n",
    "plt.imshow(img_transformada.permute(1, 2, 0))  # Permutar los canales para que sea compatible con matplotlib\n",
    "plt.show()"
   ]
  },
  {
   "cell_type": "markdown",
   "metadata": {},
   "source": [
    "### DataLoaders"
   ]
  },
  {
   "cell_type": "code",
   "execution_count": null,
   "metadata": {},
   "outputs": [],
   "source": [
    "# Definir la clase Dataset para cargar las imágenes y etiquetas\n",
    "class ImageDataset(Dataset):\n",
    "    def __init__(self, root_dir, transform=None):\n",
    "        self.root_dir = root_dir\n",
    "        self.transform = transform\n",
    "        self.images = os.listdir(root_dir)\n",
    "\n",
    "    def __len__(self):\n",
    "        return len(self.images)\n",
    "\n",
    "    def __getitem__(self, idx):\n",
    "        img_name = self.images[idx]\n",
    "        img_path = os.path.join(self.root_dir, img_name)\n",
    "        image = Image.open(img_path)\n",
    "\n",
    "        if self.transform:\n",
    "            image = self.transform(image)\n",
    "\n",
    "        label = int(img_name.split('.')[0].split('_')[-1])  # Asignar etiqueta según el nombre del archivo\n",
    "        return image, label\n",
    "\n"
   ]
  },
  {
   "cell_type": "code",
   "execution_count": null,
   "metadata": {},
   "outputs": [],
   "source": [
    "# Crear el conjunto de datos\n",
    "dataset = ImageDataset('path/to/dataset', transform=transform)\n",
    "dataset"
   ]
  },
  {
   "cell_type": "code",
   "execution_count": null,
   "metadata": {},
   "outputs": [],
   "source": [
    "\n",
    "# Crear el DataLoader\n",
    "batch_size = 32\n",
    "dataloader = DataLoader(dataset, batch_size=batch_size, shuffle=True)\n",
    "\n",
    "# Probar el DataLoader\n",
    "for batch in dataloader:\n",
    "    images, labels = batch\n",
    "    print(images.shape, labels.shape)\n",
    "    break"
   ]
  },
  {
   "cell_type": "markdown",
   "metadata": {},
   "source": [
    "## Model Training \n",
    "\n",
    "- Definir la arquitectura del modelo\n",
    "- Configurar el optimizador y la función de pérdida\n",
    "- Entrenar el modelo y monitorear el progreso\n",
    "- Guardar el modelo entrenado"
   ]
  },
  {
   "cell_type": "markdown",
   "metadata": {},
   "source": [
    "## Model Evaluation\n",
    "\n",
    "- Cargar el modelo entrenado\n",
    "- Evaluar el modelo en el conjunto de prueba\n",
    "- Calcular métricas de rendimiento\n",
    "- Visualizar ejemplos de predicciones correctas e incorrectas"
   ]
  }
 ],
 "metadata": {
  "kernelspec": {
   "display_name": "Python 3",
   "language": "python",
   "name": "python3"
  },
  "language_info": {
   "codemirror_mode": {
    "name": "ipython",
    "version": 3
   },
   "file_extension": ".py",
   "mimetype": "text/x-python",
   "name": "python",
   "nbconvert_exporter": "python",
   "pygments_lexer": "ipython3",
   "version": "3.11.4"
  }
 },
 "nbformat": 4,
 "nbformat_minor": 2
}
